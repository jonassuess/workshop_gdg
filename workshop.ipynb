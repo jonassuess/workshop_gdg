{
 "cells": [
  {
   "cell_type": "code",
   "execution_count": null,
   "id": "b821c71a",
   "metadata": {},
   "outputs": [],
   "source": [
    "%pip install numpy pandas matplotlib seaborn"
   ]
  },
  {
   "cell_type": "markdown",
   "id": "5c484c08",
   "metadata": {},
   "source": [
    "Get the dataset from the following link: \n",
    "https://www.kaggle.com/datasets/ananthu017/california-wildfire-incidents-20132020/data"
   ]
  },
  {
   "cell_type": "code",
   "execution_count": 3,
   "id": "c8cdf089",
   "metadata": {},
   "outputs": [],
   "source": [
    "import numpy as np\n",
    "import pandas as pd"
   ]
  },
  {
   "cell_type": "code",
   "execution_count": 4,
   "id": "5143dc47",
   "metadata": {},
   "outputs": [
    {
     "name": "stdout",
     "output_type": "stream",
     "text": [
      "<class 'pandas.core.frame.DataFrame'>\n",
      "RangeIndex: 1636 entries, 0 to 1635\n",
      "Data columns (total 40 columns):\n",
      " #   Column                Non-Null Count  Dtype  \n",
      "---  ------                --------------  -----  \n",
      " 0   AcresBurned           1633 non-null   float64\n",
      " 1   Active                1636 non-null   bool   \n",
      " 2   AdminUnit             1636 non-null   object \n",
      " 3   AirTankers            28 non-null     float64\n",
      " 4   ArchiveYear           1636 non-null   int64  \n",
      " 5   CalFireIncident       1636 non-null   bool   \n",
      " 6   CanonicalUrl          1636 non-null   object \n",
      " 7   ConditionStatement    284 non-null    object \n",
      " 8   ControlStatement      105 non-null    object \n",
      " 9   Counties              1636 non-null   object \n",
      " 10  CountyIds             1636 non-null   object \n",
      " 11  CrewsInvolved         171 non-null    float64\n",
      " 12  Dozers                123 non-null    float64\n",
      " 13  Engines               191 non-null    float64\n",
      " 14  Extinguished          1577 non-null   object \n",
      " 15  Fatalities            21 non-null     float64\n",
      " 16  Featured              1636 non-null   bool   \n",
      " 17  Final                 1636 non-null   bool   \n",
      " 18  FuelType              12 non-null     object \n",
      " 19  Helicopters           84 non-null     float64\n",
      " 20  Injuries              120 non-null    float64\n",
      " 21  Latitude              1636 non-null   float64\n",
      " 22  Location              1636 non-null   object \n",
      " 23  Longitude             1636 non-null   float64\n",
      " 24  MajorIncident         1636 non-null   bool   \n",
      " 25  Name                  1636 non-null   object \n",
      " 26  PercentContained      1633 non-null   float64\n",
      " 27  PersonnelInvolved     204 non-null    float64\n",
      " 28  Public                1636 non-null   bool   \n",
      " 29  SearchDescription     1619 non-null   object \n",
      " 30  SearchKeywords        1433 non-null   object \n",
      " 31  Started               1636 non-null   object \n",
      " 32  Status                1636 non-null   object \n",
      " 33  StructuresDamaged     67 non-null     float64\n",
      " 34  StructuresDestroyed   175 non-null    float64\n",
      " 35  StructuresEvacuated   0 non-null      float64\n",
      " 36  StructuresThreatened  30 non-null     float64\n",
      " 37  UniqueId              1636 non-null   object \n",
      " 38  Updated               1636 non-null   object \n",
      " 39  WaterTenders          146 non-null    float64\n",
      "dtypes: bool(6), float64(17), int64(1), object(16)\n",
      "memory usage: 444.3+ KB\n"
     ]
    }
   ],
   "source": [
    "df = pd.read_csv(\"California_Fire_Incidents.csv\")\n",
    "df.info()"
   ]
  },
  {
   "cell_type": "markdown",
   "id": "25337088",
   "metadata": {},
   "source": []
  },
  {
   "cell_type": "markdown",
   "id": "59db93df",
   "metadata": {},
   "source": [
    "### Research question: \n",
    "How do the number of fire starts and their sizes vary by month and year?"
   ]
  },
  {
   "cell_type": "code",
   "execution_count": null,
   "id": "e9b2f228",
   "metadata": {},
   "outputs": [],
   "source": []
  },
  {
   "cell_type": "markdown",
   "id": "c552efc0",
   "metadata": {},
   "source": [
    "### Research question: \n",
    "Which counties or regions (Counties, AdminUnit, Latitude/Longitude) experience the highest frequency and largest-scale fires?"
   ]
  },
  {
   "cell_type": "code",
   "execution_count": null,
   "id": "d3538d90",
   "metadata": {},
   "outputs": [],
   "source": []
  },
  {
   "cell_type": "markdown",
   "id": "a094de12",
   "metadata": {},
   "source": [
    "### Hypothesis:\n",
    "Mountainous or forested areas (e.g., specific CountyIds) show higher average AcresBurned than coastal or urban counties."
   ]
  },
  {
   "cell_type": "code",
   "execution_count": null,
   "id": "6656e736",
   "metadata": {},
   "outputs": [],
   "source": []
  },
  {
   "cell_type": "markdown",
   "id": "af729ac6",
   "metadata": {},
   "source": [
    "### Hypothesis: \n",
    "Fires with more resources deployed (higher CrewsInvolved, Dozers, Engines, AirTankers, Helicopters, WaterTenders) are contained more quickly (shorter time between Started and Extinguished)."
   ]
  },
  {
   "cell_type": "markdown",
   "id": "6c4d2f9c",
   "metadata": {},
   "source": []
  },
  {
   "cell_type": "markdown",
   "id": "c3b62fa0",
   "metadata": {},
   "source": [
    "### Hypothesis: \n",
    "Larger fires (AcresBurned) take disproportionately longer to contain and achieve a lower final %Contained."
   ]
  },
  {
   "cell_type": "code",
   "execution_count": null,
   "id": "7a219de4",
   "metadata": {},
   "outputs": [],
   "source": []
  }
 ],
 "metadata": {
  "kernelspec": {
   "display_name": "base",
   "language": "python",
   "name": "python3"
  },
  "language_info": {
   "codemirror_mode": {
    "name": "ipython",
    "version": 3
   },
   "file_extension": ".py",
   "mimetype": "text/x-python",
   "name": "python",
   "nbconvert_exporter": "python",
   "pygments_lexer": "ipython3",
   "version": "3.11.5"
  }
 },
 "nbformat": 4,
 "nbformat_minor": 5
}
